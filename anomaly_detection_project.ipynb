{
 "cells": [
  {
   "cell_type": "markdown",
   "id": "6268cf2f",
   "metadata": {},
   "source": [
    "<img align=\"right\" src=\"data:image/jpeg;base64,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\" alt=\"logo\" height = \"100\" width=\"100\"/>"
   ]
  },
  {
   "cell_type": "markdown",
   "id": "9a5cc7a8",
   "metadata": {},
   "source": [
    "# Anomaly Detection Project\n",
    "***"
   ]
  },
  {
   "cell_type": "markdown",
   "id": "f1a2c154",
   "metadata": {},
   "source": [
    "## Executive Summary\n",
    "#### Overview\n",
    "\n",
    "Presented with a set of questions regarding Code Up's cohorts' online traffic patterns for their use of class lessons and documentation, we are to explore the cohorts' web logs to discover answers to the questions given to us.  Using a SQL database and a .csv containing web logs and cohort data, we will be analyzing the data to find how the cohorts accessed the class lessons online.  \n",
    "\n",
    "#### Project Goals\n",
    "- Explore, visualize, and analyze data to discover answers to the questions given to us.\n",
    "- Create an email in response to the request included below containing findings. \n",
    "- Create a single Executive Summary-like slide summarizing most important findings\n",
    "- Create a Jupyter Notebook outlining work done to answer questions\n",
    "- Answer at least 5 of the 8 questions asked in the request including:\n",
    "    - 1. Which lesson appears to attract the most traffic consistently across cohorts (per program)?\n",
    "    - 2. Is there a cohort that referred to a lesson significantly more than other cohorts seemed to gloss over?\n",
    "    - 3. Are there students who, when active, hardly access the curriculum? If so, what information do you have about these students?\n",
    "    - 4.  Is there any suspicious activity, such as users/machines/etc accessing the curriculum who shouldn’t be? Does it appear that any web-scraping is happening? Are there any suspicious IP addresses?\n",
    "    - 5.  At some point in 2019, the ability for students and alumni to access both curriculums (web dev to ds, ds to web dev) should have been shut off. Do you see any evidence of that happening? Did it happen before?\n",
    "    - 6. What topics are grads continuing to reference after graduation and into their jobs (for each program)?\n",
    "    - 7.  Which lessons are least accessed?\n",
    "    - 8.  Anything else I should be aware of?\n",
    "\n",
    "\n",
    "\n",
    "\n",
    "#### Outline of Process\n",
    "\n",
    "The plan for this project is to do the following:\n",
    "- Acquire cohort schedule info from SQL database and join with cohorts.csv sent to us. \n",
    "- Prepare data by dropping columns, renaming columns, handling null values and creating new columns.\n",
    "- Explore data by visualizing and analyzing data.\n",
    "- Create questions based off questions sent to us and explore data for answers.\n",
    "- Come up with conclusions and gather and notate findings.\n",
    "- Create email and Google Slide with responses to questions and key findings\n",
    "\n",
    "#### Conclusion & Key Findings\n",
    "\n",
    "\n"
   ]
  },
  {
   "cell_type": "markdown",
   "id": "e2db5726",
   "metadata": {},
   "source": [
    "*** \n",
    "Project Scenario from Google Assignment\n",
    "\n",
    "Hello,\n",
    "\n",
    "I have some questions for you that I need to be answered before the board meeting Friday afternoon. I need to be able to speak to the following questions. I also need a single slide that I can incorporate into my existing presentation (Google Slides) that summarizes the most important points. My questions are listed below; however, if you discover anything else important that I didn’t think to ask, please include that as well.\n",
    "\n",
    "\n",
    "1. Which lesson appears to attract the most traffic consistently across cohorts (per program)?\n",
    "2. Is there a cohort that referred to a lesson significantly more than other cohorts seemed to gloss over?\n",
    "3. Are there students who, when active, hardly access the curriculum? If so, what information do you have about these students?\n",
    "4. Is there any suspicious activity, such as users/machines/etc accessing the curriculum who shouldn’t be? Does it appear that any web-scraping is happening? Are there any suspicious IP addresses?\n",
    "5. At some point in 2019, the ability for students and alumni to access both curriculums (web dev to ds, ds to web dev) should have been shut off. Do you see any evidence of that happening? Did it happen before?\n",
    "6. What topics are grads continuing to reference after graduation and into their jobs (for each program)?\n",
    "7. Which lessons are least accessed?\n",
    "8. Anything else I should be aware of?\n",
    "\n",
    "\n",
    "Thank you\n",
    "\n",
    "***"
   ]
  },
  {
   "cell_type": "markdown",
   "id": "5385a798",
   "metadata": {},
   "source": [
    "Other info:\n",
    "\n",
    "* To turn in your project, email datascience@codeup.com with the subject line \"Anomaly Detection Project\"\n",
    "-  To get 100 on this project you only need to answer 5 out of the 7 questions (along with the other deliverables listed below i.e. slide, your notebook, etc).\n",
    "-  Submit a link to a final notebook on GitHub that asks and answers questions - document the work you do to justify findings\n",
    "-  Compose an email with the answers to the questions/your findings, and in the email, include the link to your notebook in GitHub and attach your slide.\n",
    "-  You will not present this, so be sure that the details you need your leader to convey/understand are clearly communicated in the email.\n",
    "-  Your slide should be like an executive summary and be in form to present.\n",
    "-  Continue to use best practices of acquire.py, prepare.py, etc.\n",
    "-  Since there is no modeling to be done for this project, there is no need to split the data into train/validate/test\n",
    "-  The cohort schedule is in the SQL database, and alumni.codeup.com has info as well."
   ]
  },
  {
   "cell_type": "markdown",
   "id": "58c13b73",
   "metadata": {},
   "source": [
    "# Acquire"
   ]
  },
  {
   "cell_type": "markdown",
   "id": "aa159647",
   "metadata": {},
   "source": [
    "We were given a .csv file containing cohorts data.  Will read that into a dataframe to explore."
   ]
  },
  {
   "cell_type": "code",
   "execution_count": 1,
   "id": "61499992",
   "metadata": {},
   "outputs": [],
   "source": [
    "#Disable warnings\n",
    "import warnings\n",
    "warnings.filterwarnings('ignore')\n",
    "\n",
    "#Import libraries \n",
    "import pandas as pd\n",
    "import numpy as np\n",
    "import matplotlib.pyplot as plt\n",
    "import seaborn as sns\n",
    "\n",
    "#Import custom libraries\n",
    "import acquire\n",
    "import prepare"
   ]
  },
  {
   "cell_type": "code",
   "execution_count": 2,
   "id": "eb1979f1",
   "metadata": {},
   "outputs": [],
   "source": [
    "df_csv = pd.read_csv('cohorts.csv')"
   ]
  },
  {
   "cell_type": "code",
   "execution_count": 3,
   "id": "b0d5ce97",
   "metadata": {},
   "outputs": [
    {
     "data": {
      "text/html": [
       "<div>\n",
       "<style scoped>\n",
       "    .dataframe tbody tr th:only-of-type {\n",
       "        vertical-align: middle;\n",
       "    }\n",
       "\n",
       "    .dataframe tbody tr th {\n",
       "        vertical-align: top;\n",
       "    }\n",
       "\n",
       "    .dataframe thead th {\n",
       "        text-align: right;\n",
       "    }\n",
       "</style>\n",
       "<table border=\"1\" class=\"dataframe\">\n",
       "  <thead>\n",
       "    <tr style=\"text-align: right;\">\n",
       "      <th></th>\n",
       "      <th>cohort_id</th>\n",
       "      <th>name</th>\n",
       "      <th>start_date</th>\n",
       "      <th>end_date</th>\n",
       "      <th>program_id</th>\n",
       "    </tr>\n",
       "  </thead>\n",
       "  <tbody>\n",
       "    <tr>\n",
       "      <th>0</th>\n",
       "      <td>1</td>\n",
       "      <td>Arches</td>\n",
       "      <td>2014-02-04</td>\n",
       "      <td>2014-04-22</td>\n",
       "      <td>1</td>\n",
       "    </tr>\n",
       "    <tr>\n",
       "      <th>1</th>\n",
       "      <td>2</td>\n",
       "      <td>Badlands</td>\n",
       "      <td>2014-06-04</td>\n",
       "      <td>2014-08-22</td>\n",
       "      <td>1</td>\n",
       "    </tr>\n",
       "    <tr>\n",
       "      <th>2</th>\n",
       "      <td>3</td>\n",
       "      <td>Carlsbad</td>\n",
       "      <td>2014-09-04</td>\n",
       "      <td>2014-11-05</td>\n",
       "      <td>1</td>\n",
       "    </tr>\n",
       "    <tr>\n",
       "      <th>3</th>\n",
       "      <td>4</td>\n",
       "      <td>Denali</td>\n",
       "      <td>2014-10-20</td>\n",
       "      <td>2015-01-18</td>\n",
       "      <td>1</td>\n",
       "    </tr>\n",
       "    <tr>\n",
       "      <th>4</th>\n",
       "      <td>5</td>\n",
       "      <td>Everglades</td>\n",
       "      <td>2014-11-18</td>\n",
       "      <td>2015-02-24</td>\n",
       "      <td>1</td>\n",
       "    </tr>\n",
       "  </tbody>\n",
       "</table>\n",
       "</div>"
      ],
      "text/plain": [
       "   cohort_id        name  start_date    end_date  program_id\n",
       "0          1      Arches  2014-02-04  2014-04-22           1\n",
       "1          2    Badlands  2014-06-04  2014-08-22           1\n",
       "2          3    Carlsbad  2014-09-04  2014-11-05           1\n",
       "3          4      Denali  2014-10-20  2015-01-18           1\n",
       "4          5  Everglades  2014-11-18  2015-02-24           1"
      ]
     },
     "execution_count": 3,
     "metadata": {},
     "output_type": "execute_result"
    }
   ],
   "source": [
    "df_csv.head()"
   ]
  },
  {
   "cell_type": "code",
   "execution_count": 4,
   "id": "66083bfb",
   "metadata": {},
   "outputs": [
    {
     "data": {
      "text/plain": [
       "(46, 5)"
      ]
     },
     "execution_count": 4,
     "metadata": {},
     "output_type": "execute_result"
    }
   ],
   "source": [
    "df_csv.shape"
   ]
  },
  {
   "cell_type": "code",
   "execution_count": 5,
   "id": "a1dca080",
   "metadata": {},
   "outputs": [
    {
     "data": {
      "text/plain": [
       "<bound method DataFrame.info of     cohort_id        name  start_date    end_date  program_id\n",
       "0           1      Arches  2014-02-04  2014-04-22           1\n",
       "1           2    Badlands  2014-06-04  2014-08-22           1\n",
       "2           3    Carlsbad  2014-09-04  2014-11-05           1\n",
       "3           4      Denali  2014-10-20  2015-01-18           1\n",
       "4           5  Everglades  2014-11-18  2015-02-24           1\n",
       "5           6    Franklin  2015-02-03  2015-05-26           1\n",
       "6           7     Glacier  2015-06-05  2015-10-06           1\n",
       "7           8     Hampton  2015-09-22  2016-02-06           1\n",
       "8           9      Apollo  2015-03-30  2015-07-29           4\n",
       "9          10      Balboa  2015-11-03  2016-03-11           4\n",
       "10         11         Ike  2016-01-20  2016-05-12           1\n",
       "11         12      Joshua  2016-03-08  2016-06-30           1\n",
       "12         13       Kings  2016-05-23  2016-09-15           1\n",
       "13         14      Lassen  2016-07-18  2016-11-10           1\n",
       "14         15     Mammoth  2016-09-26  2017-02-02           2\n",
       "15         16     Niagara  2016-10-26  2017-03-09           2\n",
       "16         17     Olympic  2017-02-06  2017-05-25           1\n",
       "17         18   Pinnacles  2017-03-27  2017-07-20           2\n",
       "18         19      Quincy  2017-06-05  2017-09-22           1\n",
       "19         20     Redwood  2017-07-31  2017-12-06           2\n",
       "20         21     Sequoia  2017-09-27  2018-02-15           2\n",
       "21         22       Teddy  2018-01-08  2018-05-17           2\n",
       "22         23     Ulysses  2018-03-05  2018-07-19           2\n",
       "23         24   Voyageurs  2018-05-29  2018-10-11           2\n",
       "24         25    Wrangell  2018-07-23  2018-11-29           2\n",
       "25         26      Xanadu  2018-09-17  2019-02-08           2\n",
       "26         27    Yosemite  2018-11-05  2019-04-03           2\n",
       "27         28       Staff  2014-02-04  2014-02-04           2\n",
       "28         29        Zion  2019-01-22  2019-06-04           2\n",
       "29         30         Ada  2019-02-04  2019-06-16           3\n",
       "30         31   Andromeda  2019-03-18  2019-07-30           2\n",
       "31         32  Betelgeuse  2019-05-28  2019-10-08           2\n",
       "32         33       Ceres  2019-07-15  2019-12-11           2\n",
       "33         34       Bayes  2019-08-19  2020-01-30           3\n",
       "34         51      Deimos  2019-09-16  2020-02-27           2\n",
       "35         52      Europa  2019-11-04  2020-04-17           2\n",
       "36         53     Fortuna  2020-01-13  2020-06-23           2\n",
       "37         55       Curie  2020-02-03  2020-07-07           3\n",
       "38         56        Apex  2020-02-24  2020-07-29           2\n",
       "39         57    Ganymede  2020-03-23  2020-08-20           2\n",
       "40         58    Hyperion  2020-05-26  2020-11-10           2\n",
       "41         59      Darden  2020-07-13  2021-01-12           3\n",
       "42         60          Io  2020-07-20  2021-01-21           2\n",
       "43         61        Bash  2020-07-20  2021-01-21           2\n",
       "44         62     Jupiter  2020-09-21  2021-03-30           2\n",
       "45        132     Kalypso  2020-11-02  2021-05-04           2>"
      ]
     },
     "execution_count": 5,
     "metadata": {},
     "output_type": "execute_result"
    }
   ],
   "source": [
    "df_csv.info"
   ]
  },
  {
   "cell_type": "markdown",
   "id": "70d82d9f",
   "metadata": {},
   "source": [
    "- It looks like we have the Code Up cohorts names, dates started and date ended."
   ]
  },
  {
   "cell_type": "markdown",
   "id": "d4838c74",
   "metadata": {},
   "source": [
    "We will acquire data from the curriculum logs DB using SQL queries and our acquire.py"
   ]
  },
  {
   "cell_type": "code",
   "execution_count": 6,
   "id": "57958b8f",
   "metadata": {},
   "outputs": [],
   "source": [
    "df = acquire.get_cohort_log_data()"
   ]
  },
  {
   "cell_type": "code",
   "execution_count": 7,
   "id": "94a0d33f",
   "metadata": {},
   "outputs": [
    {
     "data": {
      "text/html": [
       "<div>\n",
       "<style scoped>\n",
       "    .dataframe tbody tr th:only-of-type {\n",
       "        vertical-align: middle;\n",
       "    }\n",
       "\n",
       "    .dataframe tbody tr th {\n",
       "        vertical-align: top;\n",
       "    }\n",
       "\n",
       "    .dataframe thead th {\n",
       "        text-align: right;\n",
       "    }\n",
       "</style>\n",
       "<table border=\"1\" class=\"dataframe\">\n",
       "  <thead>\n",
       "    <tr style=\"text-align: right;\">\n",
       "      <th></th>\n",
       "      <th>id</th>\n",
       "      <th>name</th>\n",
       "      <th>slack</th>\n",
       "      <th>start_date</th>\n",
       "      <th>end_date</th>\n",
       "      <th>created_at</th>\n",
       "      <th>updated_at</th>\n",
       "      <th>deleted_at</th>\n",
       "      <th>program_id</th>\n",
       "      <th>date</th>\n",
       "      <th>time</th>\n",
       "      <th>path</th>\n",
       "      <th>user_id</th>\n",
       "      <th>cohort_id</th>\n",
       "      <th>ip</th>\n",
       "    </tr>\n",
       "  </thead>\n",
       "  <tbody>\n",
       "    <tr>\n",
       "      <th>0</th>\n",
       "      <td>NaN</td>\n",
       "      <td>NaN</td>\n",
       "      <td>NaN</td>\n",
       "      <td>NaN</td>\n",
       "      <td>NaN</td>\n",
       "      <td>NaN</td>\n",
       "      <td>NaN</td>\n",
       "      <td>NaN</td>\n",
       "      <td>NaN</td>\n",
       "      <td>2021-04-21</td>\n",
       "      <td>12:36:54</td>\n",
       "      <td>toc</td>\n",
       "      <td>717</td>\n",
       "      <td>NaN</td>\n",
       "      <td>136.50.102.126</td>\n",
       "    </tr>\n",
       "    <tr>\n",
       "      <th>1</th>\n",
       "      <td>NaN</td>\n",
       "      <td>NaN</td>\n",
       "      <td>NaN</td>\n",
       "      <td>NaN</td>\n",
       "      <td>NaN</td>\n",
       "      <td>NaN</td>\n",
       "      <td>NaN</td>\n",
       "      <td>NaN</td>\n",
       "      <td>NaN</td>\n",
       "      <td>2021-04-21</td>\n",
       "      <td>12:36:59</td>\n",
       "      <td>javascript-i/introduction/primitive-types</td>\n",
       "      <td>717</td>\n",
       "      <td>NaN</td>\n",
       "      <td>136.50.102.126</td>\n",
       "    </tr>\n",
       "    <tr>\n",
       "      <th>2</th>\n",
       "      <td>NaN</td>\n",
       "      <td>NaN</td>\n",
       "      <td>NaN</td>\n",
       "      <td>NaN</td>\n",
       "      <td>NaN</td>\n",
       "      <td>NaN</td>\n",
       "      <td>NaN</td>\n",
       "      <td>NaN</td>\n",
       "      <td>NaN</td>\n",
       "      <td>2021-04-21</td>\n",
       "      <td>12:37:31</td>\n",
       "      <td>javascript-i/introduction/operators</td>\n",
       "      <td>717</td>\n",
       "      <td>NaN</td>\n",
       "      <td>136.50.102.126</td>\n",
       "    </tr>\n",
       "    <tr>\n",
       "      <th>3</th>\n",
       "      <td>NaN</td>\n",
       "      <td>NaN</td>\n",
       "      <td>NaN</td>\n",
       "      <td>NaN</td>\n",
       "      <td>NaN</td>\n",
       "      <td>NaN</td>\n",
       "      <td>NaN</td>\n",
       "      <td>NaN</td>\n",
       "      <td>NaN</td>\n",
       "      <td>2021-04-21</td>\n",
       "      <td>12:38:25</td>\n",
       "      <td>javascript-i/introduction/variables</td>\n",
       "      <td>717</td>\n",
       "      <td>NaN</td>\n",
       "      <td>136.50.102.126</td>\n",
       "    </tr>\n",
       "    <tr>\n",
       "      <th>4</th>\n",
       "      <td>NaN</td>\n",
       "      <td>NaN</td>\n",
       "      <td>NaN</td>\n",
       "      <td>NaN</td>\n",
       "      <td>NaN</td>\n",
       "      <td>NaN</td>\n",
       "      <td>NaN</td>\n",
       "      <td>NaN</td>\n",
       "      <td>NaN</td>\n",
       "      <td>2021-04-21</td>\n",
       "      <td>12:38:43</td>\n",
       "      <td>javascript-i/introduction/working-with-data-ty...</td>\n",
       "      <td>717</td>\n",
       "      <td>NaN</td>\n",
       "      <td>136.50.102.126</td>\n",
       "    </tr>\n",
       "  </tbody>\n",
       "</table>\n",
       "</div>"
      ],
      "text/plain": [
       "   id name slack start_date end_date created_at updated_at  deleted_at  \\\n",
       "0 NaN  NaN   NaN        NaN      NaN        NaN        NaN         NaN   \n",
       "1 NaN  NaN   NaN        NaN      NaN        NaN        NaN         NaN   \n",
       "2 NaN  NaN   NaN        NaN      NaN        NaN        NaN         NaN   \n",
       "3 NaN  NaN   NaN        NaN      NaN        NaN        NaN         NaN   \n",
       "4 NaN  NaN   NaN        NaN      NaN        NaN        NaN         NaN   \n",
       "\n",
       "   program_id        date      time  \\\n",
       "0         NaN  2021-04-21  12:36:54   \n",
       "1         NaN  2021-04-21  12:36:59   \n",
       "2         NaN  2021-04-21  12:37:31   \n",
       "3         NaN  2021-04-21  12:38:25   \n",
       "4         NaN  2021-04-21  12:38:43   \n",
       "\n",
       "                                                path  user_id  cohort_id  \\\n",
       "0                                                toc      717        NaN   \n",
       "1          javascript-i/introduction/primitive-types      717        NaN   \n",
       "2                javascript-i/introduction/operators      717        NaN   \n",
       "3                javascript-i/introduction/variables      717        NaN   \n",
       "4  javascript-i/introduction/working-with-data-ty...      717        NaN   \n",
       "\n",
       "               ip  \n",
       "0  136.50.102.126  \n",
       "1  136.50.102.126  \n",
       "2  136.50.102.126  \n",
       "3  136.50.102.126  \n",
       "4  136.50.102.126  "
      ]
     },
     "execution_count": 7,
     "metadata": {},
     "output_type": "execute_result"
    }
   ],
   "source": [
    "df.head()"
   ]
  },
  {
   "cell_type": "code",
   "execution_count": 8,
   "id": "e9961fce",
   "metadata": {},
   "outputs": [
    {
     "data": {
      "text/plain": [
       "(900223, 15)"
      ]
     },
     "execution_count": 8,
     "metadata": {},
     "output_type": "execute_result"
    }
   ],
   "source": [
    "df.shape"
   ]
  },
  {
   "cell_type": "code",
   "execution_count": 9,
   "id": "91de2b6f",
   "metadata": {},
   "outputs": [
    {
     "name": "stdout",
     "output_type": "stream",
     "text": [
      "<class 'pandas.core.frame.DataFrame'>\n",
      "Int64Index: 900223 entries, 0 to 900222\n",
      "Data columns (total 15 columns):\n",
      " #   Column      Non-Null Count   Dtype  \n",
      "---  ------      --------------   -----  \n",
      " 0   id          847330 non-null  float64\n",
      " 1   name        847330 non-null  object \n",
      " 2   slack       847330 non-null  object \n",
      " 3   start_date  847330 non-null  object \n",
      " 4   end_date    847330 non-null  object \n",
      " 5   created_at  847330 non-null  object \n",
      " 6   updated_at  847330 non-null  object \n",
      " 7   deleted_at  0 non-null       float64\n",
      " 8   program_id  847330 non-null  float64\n",
      " 9   date        900223 non-null  object \n",
      " 10  time        900223 non-null  object \n",
      " 11  path        900222 non-null  object \n",
      " 12  user_id     900223 non-null  int64  \n",
      " 13  cohort_id   847330 non-null  float64\n",
      " 14  ip          900223 non-null  object \n",
      "dtypes: float64(4), int64(1), object(10)\n",
      "memory usage: 109.9+ MB\n"
     ]
    }
   ],
   "source": [
    "df.info()"
   ]
  },
  {
   "cell_type": "code",
   "execution_count": 10,
   "id": "b7c009cd",
   "metadata": {},
   "outputs": [
    {
     "data": {
      "text/html": [
       "<div>\n",
       "<style scoped>\n",
       "    .dataframe tbody tr th:only-of-type {\n",
       "        vertical-align: middle;\n",
       "    }\n",
       "\n",
       "    .dataframe tbody tr th {\n",
       "        vertical-align: top;\n",
       "    }\n",
       "\n",
       "    .dataframe thead th {\n",
       "        text-align: right;\n",
       "    }\n",
       "</style>\n",
       "<table border=\"1\" class=\"dataframe\">\n",
       "  <thead>\n",
       "    <tr style=\"text-align: right;\">\n",
       "      <th></th>\n",
       "      <th>id</th>\n",
       "      <th>name</th>\n",
       "      <th>slack</th>\n",
       "      <th>start_date</th>\n",
       "      <th>end_date</th>\n",
       "      <th>created_at</th>\n",
       "      <th>updated_at</th>\n",
       "      <th>deleted_at</th>\n",
       "      <th>program_id</th>\n",
       "      <th>date</th>\n",
       "      <th>time</th>\n",
       "      <th>path</th>\n",
       "      <th>user_id</th>\n",
       "      <th>cohort_id</th>\n",
       "      <th>ip</th>\n",
       "    </tr>\n",
       "  </thead>\n",
       "  <tbody>\n",
       "    <tr>\n",
       "      <th>900218</th>\n",
       "      <td>139.0</td>\n",
       "      <td>Oberon</td>\n",
       "      <td>#oberon</td>\n",
       "      <td>2021-04-12</td>\n",
       "      <td>2021-10-01</td>\n",
       "      <td>2021-04-12 18:07:21</td>\n",
       "      <td>2021-04-12 18:07:21</td>\n",
       "      <td>NaN</td>\n",
       "      <td>2.0</td>\n",
       "      <td>2021-04-21</td>\n",
       "      <td>12:13:18</td>\n",
       "      <td>javascript-i/testing-user-functions</td>\n",
       "      <td>969</td>\n",
       "      <td>139.0</td>\n",
       "      <td>107.77.169.64</td>\n",
       "    </tr>\n",
       "    <tr>\n",
       "      <th>900219</th>\n",
       "      <td>139.0</td>\n",
       "      <td>Oberon</td>\n",
       "      <td>#oberon</td>\n",
       "      <td>2021-04-12</td>\n",
       "      <td>2021-10-01</td>\n",
       "      <td>2021-04-12 18:07:21</td>\n",
       "      <td>2021-04-12 18:07:21</td>\n",
       "      <td>NaN</td>\n",
       "      <td>2.0</td>\n",
       "      <td>2021-04-21</td>\n",
       "      <td>12:31:48</td>\n",
       "      <td>javascript-i</td>\n",
       "      <td>969</td>\n",
       "      <td>139.0</td>\n",
       "      <td>107.77.169.64</td>\n",
       "    </tr>\n",
       "    <tr>\n",
       "      <th>900220</th>\n",
       "      <td>139.0</td>\n",
       "      <td>Oberon</td>\n",
       "      <td>#oberon</td>\n",
       "      <td>2021-04-12</td>\n",
       "      <td>2021-10-01</td>\n",
       "      <td>2021-04-12 18:07:21</td>\n",
       "      <td>2021-04-12 18:07:21</td>\n",
       "      <td>NaN</td>\n",
       "      <td>2.0</td>\n",
       "      <td>2021-04-21</td>\n",
       "      <td>12:31:58</td>\n",
       "      <td>javascript-i/javascript-with-html</td>\n",
       "      <td>969</td>\n",
       "      <td>139.0</td>\n",
       "      <td>107.77.169.64</td>\n",
       "    </tr>\n",
       "    <tr>\n",
       "      <th>900221</th>\n",
       "      <td>139.0</td>\n",
       "      <td>Oberon</td>\n",
       "      <td>#oberon</td>\n",
       "      <td>2021-04-12</td>\n",
       "      <td>2021-10-01</td>\n",
       "      <td>2021-04-12 18:07:21</td>\n",
       "      <td>2021-04-12 18:07:21</td>\n",
       "      <td>NaN</td>\n",
       "      <td>2.0</td>\n",
       "      <td>2021-04-21</td>\n",
       "      <td>12:32:01</td>\n",
       "      <td>javascript-i/testing-user-functions</td>\n",
       "      <td>969</td>\n",
       "      <td>139.0</td>\n",
       "      <td>107.77.169.64</td>\n",
       "    </tr>\n",
       "    <tr>\n",
       "      <th>900222</th>\n",
       "      <td>139.0</td>\n",
       "      <td>Oberon</td>\n",
       "      <td>#oberon</td>\n",
       "      <td>2021-04-12</td>\n",
       "      <td>2021-10-01</td>\n",
       "      <td>2021-04-12 18:07:21</td>\n",
       "      <td>2021-04-12 18:07:21</td>\n",
       "      <td>NaN</td>\n",
       "      <td>2.0</td>\n",
       "      <td>2021-04-21</td>\n",
       "      <td>13:14:10</td>\n",
       "      <td>/</td>\n",
       "      <td>970</td>\n",
       "      <td>139.0</td>\n",
       "      <td>172.56.14.200</td>\n",
       "    </tr>\n",
       "  </tbody>\n",
       "</table>\n",
       "</div>"
      ],
      "text/plain": [
       "           id    name    slack  start_date    end_date           created_at  \\\n",
       "900218  139.0  Oberon  #oberon  2021-04-12  2021-10-01  2021-04-12 18:07:21   \n",
       "900219  139.0  Oberon  #oberon  2021-04-12  2021-10-01  2021-04-12 18:07:21   \n",
       "900220  139.0  Oberon  #oberon  2021-04-12  2021-10-01  2021-04-12 18:07:21   \n",
       "900221  139.0  Oberon  #oberon  2021-04-12  2021-10-01  2021-04-12 18:07:21   \n",
       "900222  139.0  Oberon  #oberon  2021-04-12  2021-10-01  2021-04-12 18:07:21   \n",
       "\n",
       "                 updated_at  deleted_at  program_id        date      time  \\\n",
       "900218  2021-04-12 18:07:21         NaN         2.0  2021-04-21  12:13:18   \n",
       "900219  2021-04-12 18:07:21         NaN         2.0  2021-04-21  12:31:48   \n",
       "900220  2021-04-12 18:07:21         NaN         2.0  2021-04-21  12:31:58   \n",
       "900221  2021-04-12 18:07:21         NaN         2.0  2021-04-21  12:32:01   \n",
       "900222  2021-04-12 18:07:21         NaN         2.0  2021-04-21  13:14:10   \n",
       "\n",
       "                                       path  user_id  cohort_id             ip  \n",
       "900218  javascript-i/testing-user-functions      969      139.0  107.77.169.64  \n",
       "900219                         javascript-i      969      139.0  107.77.169.64  \n",
       "900220    javascript-i/javascript-with-html      969      139.0  107.77.169.64  \n",
       "900221  javascript-i/testing-user-functions      969      139.0  107.77.169.64  \n",
       "900222                                    /      970      139.0  172.56.14.200  "
      ]
     },
     "execution_count": 10,
     "metadata": {},
     "output_type": "execute_result"
    }
   ],
   "source": [
    "df.tail()"
   ]
  },
  {
   "cell_type": "markdown",
   "id": "c40c3cc2",
   "metadata": {},
   "source": [
    "- Our dataframe returns the data from the curriculum logs for all cohorts at Code Up."
   ]
  },
  {
   "cell_type": "markdown",
   "id": "17d45057",
   "metadata": {},
   "source": [
    "## Prepare"
   ]
  },
  {
   "cell_type": "markdown",
   "id": "657bdb63",
   "metadata": {},
   "source": [
    "Now that we've acquired our data, let's look for nulls."
   ]
  },
  {
   "cell_type": "code",
   "execution_count": 11,
   "id": "f00c94a7",
   "metadata": {},
   "outputs": [
    {
     "data": {
      "text/plain": [
       "id             52893\n",
       "name           52893\n",
       "slack          52893\n",
       "start_date     52893\n",
       "end_date       52893\n",
       "created_at     52893\n",
       "updated_at     52893\n",
       "deleted_at    900223\n",
       "program_id     52893\n",
       "date               0\n",
       "time               0\n",
       "path               1\n",
       "user_id            0\n",
       "cohort_id      52893\n",
       "ip                 0\n",
       "dtype: int64"
      ]
     },
     "execution_count": 11,
     "metadata": {},
     "output_type": "execute_result"
    }
   ],
   "source": [
    "df.isna().sum()"
   ]
  },
  {
   "cell_type": "code",
   "execution_count": 12,
   "id": "9bf601c2",
   "metadata": {},
   "outputs": [
    {
     "data": {
      "text/html": [
       "<div>\n",
       "<style scoped>\n",
       "    .dataframe tbody tr th:only-of-type {\n",
       "        vertical-align: middle;\n",
       "    }\n",
       "\n",
       "    .dataframe tbody tr th {\n",
       "        vertical-align: top;\n",
       "    }\n",
       "\n",
       "    .dataframe thead th {\n",
       "        text-align: right;\n",
       "    }\n",
       "</style>\n",
       "<table border=\"1\" class=\"dataframe\">\n",
       "  <thead>\n",
       "    <tr style=\"text-align: right;\">\n",
       "      <th></th>\n",
       "      <th>num_rows_missing</th>\n",
       "      <th>percent_rows_missing</th>\n",
       "    </tr>\n",
       "  </thead>\n",
       "  <tbody>\n",
       "    <tr>\n",
       "      <th>id</th>\n",
       "      <td>52893</td>\n",
       "      <td>5.875544</td>\n",
       "    </tr>\n",
       "    <tr>\n",
       "      <th>name</th>\n",
       "      <td>52893</td>\n",
       "      <td>5.875544</td>\n",
       "    </tr>\n",
       "    <tr>\n",
       "      <th>slack</th>\n",
       "      <td>52893</td>\n",
       "      <td>5.875544</td>\n",
       "    </tr>\n",
       "    <tr>\n",
       "      <th>start_date</th>\n",
       "      <td>52893</td>\n",
       "      <td>5.875544</td>\n",
       "    </tr>\n",
       "    <tr>\n",
       "      <th>end_date</th>\n",
       "      <td>52893</td>\n",
       "      <td>5.875544</td>\n",
       "    </tr>\n",
       "    <tr>\n",
       "      <th>created_at</th>\n",
       "      <td>52893</td>\n",
       "      <td>5.875544</td>\n",
       "    </tr>\n",
       "    <tr>\n",
       "      <th>updated_at</th>\n",
       "      <td>52893</td>\n",
       "      <td>5.875544</td>\n",
       "    </tr>\n",
       "    <tr>\n",
       "      <th>deleted_at</th>\n",
       "      <td>900223</td>\n",
       "      <td>100.000000</td>\n",
       "    </tr>\n",
       "    <tr>\n",
       "      <th>program_id</th>\n",
       "      <td>52893</td>\n",
       "      <td>5.875544</td>\n",
       "    </tr>\n",
       "    <tr>\n",
       "      <th>date</th>\n",
       "      <td>0</td>\n",
       "      <td>0.000000</td>\n",
       "    </tr>\n",
       "    <tr>\n",
       "      <th>time</th>\n",
       "      <td>0</td>\n",
       "      <td>0.000000</td>\n",
       "    </tr>\n",
       "    <tr>\n",
       "      <th>path</th>\n",
       "      <td>1</td>\n",
       "      <td>0.000111</td>\n",
       "    </tr>\n",
       "    <tr>\n",
       "      <th>user_id</th>\n",
       "      <td>0</td>\n",
       "      <td>0.000000</td>\n",
       "    </tr>\n",
       "    <tr>\n",
       "      <th>cohort_id</th>\n",
       "      <td>52893</td>\n",
       "      <td>5.875544</td>\n",
       "    </tr>\n",
       "    <tr>\n",
       "      <th>ip</th>\n",
       "      <td>0</td>\n",
       "      <td>0.000000</td>\n",
       "    </tr>\n",
       "  </tbody>\n",
       "</table>\n",
       "</div>"
      ],
      "text/plain": [
       "            num_rows_missing  percent_rows_missing\n",
       "id                     52893              5.875544\n",
       "name                   52893              5.875544\n",
       "slack                  52893              5.875544\n",
       "start_date             52893              5.875544\n",
       "end_date               52893              5.875544\n",
       "created_at             52893              5.875544\n",
       "updated_at             52893              5.875544\n",
       "deleted_at            900223            100.000000\n",
       "program_id             52893              5.875544\n",
       "date                       0              0.000000\n",
       "time                       0              0.000000\n",
       "path                       1              0.000111\n",
       "user_id                    0              0.000000\n",
       "cohort_id              52893              5.875544\n",
       "ip                         0              0.000000"
      ]
     },
     "execution_count": 12,
     "metadata": {},
     "output_type": "execute_result"
    }
   ],
   "source": [
    "acquire.nulls_by_col(df)"
   ]
  },
  {
   "cell_type": "code",
   "execution_count": 13,
   "id": "7ff928ed",
   "metadata": {},
   "outputs": [
    {
     "data": {
      "text/html": [
       "<div>\n",
       "<style scoped>\n",
       "    .dataframe tbody tr th:only-of-type {\n",
       "        vertical-align: middle;\n",
       "    }\n",
       "\n",
       "    .dataframe tbody tr th {\n",
       "        vertical-align: top;\n",
       "    }\n",
       "\n",
       "    .dataframe thead th {\n",
       "        text-align: right;\n",
       "    }\n",
       "</style>\n",
       "<table border=\"1\" class=\"dataframe\">\n",
       "  <thead>\n",
       "    <tr style=\"text-align: right;\">\n",
       "      <th></th>\n",
       "      <th>num_cols_missing</th>\n",
       "      <th>percent_cols_missing</th>\n",
       "      <th>index</th>\n",
       "    </tr>\n",
       "  </thead>\n",
       "  <tbody>\n",
       "    <tr>\n",
       "      <th>0</th>\n",
       "      <td>1</td>\n",
       "      <td>6.666666666666667</td>\n",
       "      <td>847329</td>\n",
       "    </tr>\n",
       "    <tr>\n",
       "      <th>1</th>\n",
       "      <td>2</td>\n",
       "      <td>13.333333333333334</td>\n",
       "      <td>1</td>\n",
       "    </tr>\n",
       "    <tr>\n",
       "      <th>2</th>\n",
       "      <td>10</td>\n",
       "      <td>66.66666666666666</td>\n",
       "      <td>52893</td>\n",
       "    </tr>\n",
       "  </tbody>\n",
       "</table>\n",
       "</div>"
      ],
      "text/plain": [
       "  num_cols_missing percent_cols_missing   index\n",
       "0                1    6.666666666666667  847329\n",
       "1                2   13.333333333333334       1\n",
       "2               10    66.66666666666666   52893"
      ]
     },
     "execution_count": 13,
     "metadata": {},
     "output_type": "execute_result"
    }
   ],
   "source": [
    "acquire.nulls_by_row(df)"
   ]
  },
  {
   "cell_type": "code",
   "execution_count": 14,
   "id": "b1b18c69",
   "metadata": {},
   "outputs": [
    {
     "data": {
      "text/html": [
       "<div>\n",
       "<style scoped>\n",
       "    .dataframe tbody tr th:only-of-type {\n",
       "        vertical-align: middle;\n",
       "    }\n",
       "\n",
       "    .dataframe tbody tr th {\n",
       "        vertical-align: top;\n",
       "    }\n",
       "\n",
       "    .dataframe thead th {\n",
       "        text-align: right;\n",
       "    }\n",
       "</style>\n",
       "<table border=\"1\" class=\"dataframe\">\n",
       "  <thead>\n",
       "    <tr style=\"text-align: right;\">\n",
       "      <th></th>\n",
       "      <th>id</th>\n",
       "      <th>name</th>\n",
       "      <th>slack</th>\n",
       "      <th>start_date</th>\n",
       "      <th>end_date</th>\n",
       "      <th>created_at</th>\n",
       "      <th>updated_at</th>\n",
       "      <th>deleted_at</th>\n",
       "      <th>program_id</th>\n",
       "      <th>date</th>\n",
       "      <th>time</th>\n",
       "      <th>path</th>\n",
       "      <th>user_id</th>\n",
       "      <th>cohort_id</th>\n",
       "      <th>ip</th>\n",
       "    </tr>\n",
       "  </thead>\n",
       "  <tbody>\n",
       "    <tr>\n",
       "      <th>0</th>\n",
       "      <td>NaN</td>\n",
       "      <td>NaN</td>\n",
       "      <td>NaN</td>\n",
       "      <td>NaN</td>\n",
       "      <td>NaN</td>\n",
       "      <td>NaN</td>\n",
       "      <td>NaN</td>\n",
       "      <td>NaN</td>\n",
       "      <td>NaN</td>\n",
       "      <td>2021-04-21</td>\n",
       "      <td>12:36:54</td>\n",
       "      <td>toc</td>\n",
       "      <td>717</td>\n",
       "      <td>NaN</td>\n",
       "      <td>136.50.102.126</td>\n",
       "    </tr>\n",
       "    <tr>\n",
       "      <th>1</th>\n",
       "      <td>NaN</td>\n",
       "      <td>NaN</td>\n",
       "      <td>NaN</td>\n",
       "      <td>NaN</td>\n",
       "      <td>NaN</td>\n",
       "      <td>NaN</td>\n",
       "      <td>NaN</td>\n",
       "      <td>NaN</td>\n",
       "      <td>NaN</td>\n",
       "      <td>2021-04-21</td>\n",
       "      <td>12:36:59</td>\n",
       "      <td>javascript-i/introduction/primitive-types</td>\n",
       "      <td>717</td>\n",
       "      <td>NaN</td>\n",
       "      <td>136.50.102.126</td>\n",
       "    </tr>\n",
       "    <tr>\n",
       "      <th>2</th>\n",
       "      <td>NaN</td>\n",
       "      <td>NaN</td>\n",
       "      <td>NaN</td>\n",
       "      <td>NaN</td>\n",
       "      <td>NaN</td>\n",
       "      <td>NaN</td>\n",
       "      <td>NaN</td>\n",
       "      <td>NaN</td>\n",
       "      <td>NaN</td>\n",
       "      <td>2021-04-21</td>\n",
       "      <td>12:37:31</td>\n",
       "      <td>javascript-i/introduction/operators</td>\n",
       "      <td>717</td>\n",
       "      <td>NaN</td>\n",
       "      <td>136.50.102.126</td>\n",
       "    </tr>\n",
       "    <tr>\n",
       "      <th>3</th>\n",
       "      <td>NaN</td>\n",
       "      <td>NaN</td>\n",
       "      <td>NaN</td>\n",
       "      <td>NaN</td>\n",
       "      <td>NaN</td>\n",
       "      <td>NaN</td>\n",
       "      <td>NaN</td>\n",
       "      <td>NaN</td>\n",
       "      <td>NaN</td>\n",
       "      <td>2021-04-21</td>\n",
       "      <td>12:38:25</td>\n",
       "      <td>javascript-i/introduction/variables</td>\n",
       "      <td>717</td>\n",
       "      <td>NaN</td>\n",
       "      <td>136.50.102.126</td>\n",
       "    </tr>\n",
       "    <tr>\n",
       "      <th>4</th>\n",
       "      <td>NaN</td>\n",
       "      <td>NaN</td>\n",
       "      <td>NaN</td>\n",
       "      <td>NaN</td>\n",
       "      <td>NaN</td>\n",
       "      <td>NaN</td>\n",
       "      <td>NaN</td>\n",
       "      <td>NaN</td>\n",
       "      <td>NaN</td>\n",
       "      <td>2021-04-21</td>\n",
       "      <td>12:38:43</td>\n",
       "      <td>javascript-i/introduction/working-with-data-ty...</td>\n",
       "      <td>717</td>\n",
       "      <td>NaN</td>\n",
       "      <td>136.50.102.126</td>\n",
       "    </tr>\n",
       "    <tr>\n",
       "      <th>...</th>\n",
       "      <td>...</td>\n",
       "      <td>...</td>\n",
       "      <td>...</td>\n",
       "      <td>...</td>\n",
       "      <td>...</td>\n",
       "      <td>...</td>\n",
       "      <td>...</td>\n",
       "      <td>...</td>\n",
       "      <td>...</td>\n",
       "      <td>...</td>\n",
       "      <td>...</td>\n",
       "      <td>...</td>\n",
       "      <td>...</td>\n",
       "      <td>...</td>\n",
       "      <td>...</td>\n",
       "    </tr>\n",
       "    <tr>\n",
       "      <th>52888</th>\n",
       "      <td>NaN</td>\n",
       "      <td>NaN</td>\n",
       "      <td>NaN</td>\n",
       "      <td>NaN</td>\n",
       "      <td>NaN</td>\n",
       "      <td>NaN</td>\n",
       "      <td>NaN</td>\n",
       "      <td>NaN</td>\n",
       "      <td>NaN</td>\n",
       "      <td>2019-08-08</td>\n",
       "      <td>10:19:19</td>\n",
       "      <td>java-ii/inheritance-and-polymorphism</td>\n",
       "      <td>48</td>\n",
       "      <td>NaN</td>\n",
       "      <td>216.177.189.26</td>\n",
       "    </tr>\n",
       "    <tr>\n",
       "      <th>52889</th>\n",
       "      <td>NaN</td>\n",
       "      <td>NaN</td>\n",
       "      <td>NaN</td>\n",
       "      <td>NaN</td>\n",
       "      <td>NaN</td>\n",
       "      <td>NaN</td>\n",
       "      <td>NaN</td>\n",
       "      <td>NaN</td>\n",
       "      <td>NaN</td>\n",
       "      <td>2019-08-08</td>\n",
       "      <td>10:19:20</td>\n",
       "      <td>java-ii/interfaces-and-abstract-classes</td>\n",
       "      <td>48</td>\n",
       "      <td>NaN</td>\n",
       "      <td>216.177.189.26</td>\n",
       "    </tr>\n",
       "    <tr>\n",
       "      <th>52890</th>\n",
       "      <td>NaN</td>\n",
       "      <td>NaN</td>\n",
       "      <td>NaN</td>\n",
       "      <td>NaN</td>\n",
       "      <td>NaN</td>\n",
       "      <td>NaN</td>\n",
       "      <td>NaN</td>\n",
       "      <td>NaN</td>\n",
       "      <td>NaN</td>\n",
       "      <td>2019-08-08</td>\n",
       "      <td>15:29:32</td>\n",
       "      <td>/</td>\n",
       "      <td>362</td>\n",
       "      <td>NaN</td>\n",
       "      <td>70.123.200.145</td>\n",
       "    </tr>\n",
       "    <tr>\n",
       "      <th>52891</th>\n",
       "      <td>NaN</td>\n",
       "      <td>NaN</td>\n",
       "      <td>NaN</td>\n",
       "      <td>NaN</td>\n",
       "      <td>NaN</td>\n",
       "      <td>NaN</td>\n",
       "      <td>NaN</td>\n",
       "      <td>NaN</td>\n",
       "      <td>NaN</td>\n",
       "      <td>2019-08-09</td>\n",
       "      <td>08:01:30</td>\n",
       "      <td>/</td>\n",
       "      <td>367</td>\n",
       "      <td>NaN</td>\n",
       "      <td>216.180.182.238</td>\n",
       "    </tr>\n",
       "    <tr>\n",
       "      <th>52892</th>\n",
       "      <td>NaN</td>\n",
       "      <td>NaN</td>\n",
       "      <td>NaN</td>\n",
       "      <td>NaN</td>\n",
       "      <td>NaN</td>\n",
       "      <td>NaN</td>\n",
       "      <td>NaN</td>\n",
       "      <td>NaN</td>\n",
       "      <td>NaN</td>\n",
       "      <td>2019-08-09</td>\n",
       "      <td>08:52:34</td>\n",
       "      <td>6-classification/6.2-decision-trees</td>\n",
       "      <td>351</td>\n",
       "      <td>NaN</td>\n",
       "      <td>173.173.114.111</td>\n",
       "    </tr>\n",
       "  </tbody>\n",
       "</table>\n",
       "<p>52893 rows × 15 columns</p>\n",
       "</div>"
      ],
      "text/plain": [
       "       id name slack start_date end_date created_at updated_at  deleted_at  \\\n",
       "0     NaN  NaN   NaN        NaN      NaN        NaN        NaN         NaN   \n",
       "1     NaN  NaN   NaN        NaN      NaN        NaN        NaN         NaN   \n",
       "2     NaN  NaN   NaN        NaN      NaN        NaN        NaN         NaN   \n",
       "3     NaN  NaN   NaN        NaN      NaN        NaN        NaN         NaN   \n",
       "4     NaN  NaN   NaN        NaN      NaN        NaN        NaN         NaN   \n",
       "...    ..  ...   ...        ...      ...        ...        ...         ...   \n",
       "52888 NaN  NaN   NaN        NaN      NaN        NaN        NaN         NaN   \n",
       "52889 NaN  NaN   NaN        NaN      NaN        NaN        NaN         NaN   \n",
       "52890 NaN  NaN   NaN        NaN      NaN        NaN        NaN         NaN   \n",
       "52891 NaN  NaN   NaN        NaN      NaN        NaN        NaN         NaN   \n",
       "52892 NaN  NaN   NaN        NaN      NaN        NaN        NaN         NaN   \n",
       "\n",
       "       program_id        date      time  \\\n",
       "0             NaN  2021-04-21  12:36:54   \n",
       "1             NaN  2021-04-21  12:36:59   \n",
       "2             NaN  2021-04-21  12:37:31   \n",
       "3             NaN  2021-04-21  12:38:25   \n",
       "4             NaN  2021-04-21  12:38:43   \n",
       "...           ...         ...       ...   \n",
       "52888         NaN  2019-08-08  10:19:19   \n",
       "52889         NaN  2019-08-08  10:19:20   \n",
       "52890         NaN  2019-08-08  15:29:32   \n",
       "52891         NaN  2019-08-09  08:01:30   \n",
       "52892         NaN  2019-08-09  08:52:34   \n",
       "\n",
       "                                                    path  user_id  cohort_id  \\\n",
       "0                                                    toc      717        NaN   \n",
       "1              javascript-i/introduction/primitive-types      717        NaN   \n",
       "2                    javascript-i/introduction/operators      717        NaN   \n",
       "3                    javascript-i/introduction/variables      717        NaN   \n",
       "4      javascript-i/introduction/working-with-data-ty...      717        NaN   \n",
       "...                                                  ...      ...        ...   \n",
       "52888               java-ii/inheritance-and-polymorphism       48        NaN   \n",
       "52889            java-ii/interfaces-and-abstract-classes       48        NaN   \n",
       "52890                                                  /      362        NaN   \n",
       "52891                                                  /      367        NaN   \n",
       "52892                6-classification/6.2-decision-trees      351        NaN   \n",
       "\n",
       "                    ip  \n",
       "0       136.50.102.126  \n",
       "1       136.50.102.126  \n",
       "2       136.50.102.126  \n",
       "3       136.50.102.126  \n",
       "4       136.50.102.126  \n",
       "...                ...  \n",
       "52888   216.177.189.26  \n",
       "52889   216.177.189.26  \n",
       "52890   70.123.200.145  \n",
       "52891  216.180.182.238  \n",
       "52892  173.173.114.111  \n",
       "\n",
       "[52893 rows x 15 columns]"
      ]
     },
     "execution_count": 14,
     "metadata": {},
     "output_type": "execute_result"
    }
   ],
   "source": [
    "df[df.name.isna() & df.program_id.isna()]"
   ]
  },
  {
   "cell_type": "markdown",
   "id": "3bbfae73",
   "metadata": {},
   "source": [
    "#### Dropping nulls since they do not have a cohort associated to them and making a cleaner data frame.  Will look into nulls later. "
   ]
  },
  {
   "cell_type": "code",
   "execution_count": 15,
   "id": "8a861d47",
   "metadata": {},
   "outputs": [
    {
     "data": {
      "text/plain": [
       "2.0    713365\n",
       "3.0    103412\n",
       "1.0     30548\n",
       "4.0         5\n",
       "Name: program_id, dtype: int64"
      ]
     },
     "execution_count": 15,
     "metadata": {},
     "output_type": "execute_result"
    }
   ],
   "source": [
    "df.program_id.value_counts()"
   ]
  },
  {
   "cell_type": "code",
   "execution_count": 16,
   "id": "c17f2189",
   "metadata": {},
   "outputs": [
    {
     "data": {
      "text/plain": [
       "Index(['id', 'name', 'slack', 'start_date', 'end_date', 'created_at',\n",
       "       'updated_at', 'deleted_at', 'program_id', 'date', 'time', 'path',\n",
       "       'user_id', 'cohort_id', 'ip'],\n",
       "      dtype='object')"
      ]
     },
     "execution_count": 16,
     "metadata": {},
     "output_type": "execute_result"
    }
   ],
   "source": [
    "df.columns"
   ]
  },
  {
   "cell_type": "code",
   "execution_count": 17,
   "id": "6b49ffea",
   "metadata": {},
   "outputs": [
    {
     "data": {
      "text/html": [
       "<div>\n",
       "<style scoped>\n",
       "    .dataframe tbody tr th:only-of-type {\n",
       "        vertical-align: middle;\n",
       "    }\n",
       "\n",
       "    .dataframe tbody tr th {\n",
       "        vertical-align: top;\n",
       "    }\n",
       "\n",
       "    .dataframe thead th {\n",
       "        text-align: right;\n",
       "    }\n",
       "</style>\n",
       "<table border=\"1\" class=\"dataframe\">\n",
       "  <thead>\n",
       "    <tr style=\"text-align: right;\">\n",
       "      <th></th>\n",
       "      <th>id</th>\n",
       "      <th>name</th>\n",
       "      <th>slack</th>\n",
       "      <th>start_date</th>\n",
       "      <th>end_date</th>\n",
       "      <th>created_at</th>\n",
       "      <th>updated_at</th>\n",
       "      <th>program_id</th>\n",
       "      <th>date</th>\n",
       "      <th>time</th>\n",
       "      <th>path</th>\n",
       "      <th>user_id</th>\n",
       "      <th>cohort_id</th>\n",
       "      <th>ip</th>\n",
       "      <th>program_type</th>\n",
       "    </tr>\n",
       "  </thead>\n",
       "  <tbody>\n",
       "    <tr>\n",
       "      <th>0</th>\n",
       "      <td>NaN</td>\n",
       "      <td>NaN</td>\n",
       "      <td>NaN</td>\n",
       "      <td>NaT</td>\n",
       "      <td>NaT</td>\n",
       "      <td>NaT</td>\n",
       "      <td>NaT</td>\n",
       "      <td>NaN</td>\n",
       "      <td>2021-04-21</td>\n",
       "      <td>2021-10-20 12:36:54</td>\n",
       "      <td>toc</td>\n",
       "      <td>717</td>\n",
       "      <td>NaN</td>\n",
       "      <td>136.50.102.126</td>\n",
       "      <td>0</td>\n",
       "    </tr>\n",
       "    <tr>\n",
       "      <th>1</th>\n",
       "      <td>NaN</td>\n",
       "      <td>NaN</td>\n",
       "      <td>NaN</td>\n",
       "      <td>NaT</td>\n",
       "      <td>NaT</td>\n",
       "      <td>NaT</td>\n",
       "      <td>NaT</td>\n",
       "      <td>NaN</td>\n",
       "      <td>2021-04-21</td>\n",
       "      <td>2021-10-20 12:36:59</td>\n",
       "      <td>javascript-i/introduction/primitive-types</td>\n",
       "      <td>717</td>\n",
       "      <td>NaN</td>\n",
       "      <td>136.50.102.126</td>\n",
       "      <td>0</td>\n",
       "    </tr>\n",
       "    <tr>\n",
       "      <th>2</th>\n",
       "      <td>NaN</td>\n",
       "      <td>NaN</td>\n",
       "      <td>NaN</td>\n",
       "      <td>NaT</td>\n",
       "      <td>NaT</td>\n",
       "      <td>NaT</td>\n",
       "      <td>NaT</td>\n",
       "      <td>NaN</td>\n",
       "      <td>2021-04-21</td>\n",
       "      <td>2021-10-20 12:37:31</td>\n",
       "      <td>javascript-i/introduction/operators</td>\n",
       "      <td>717</td>\n",
       "      <td>NaN</td>\n",
       "      <td>136.50.102.126</td>\n",
       "      <td>0</td>\n",
       "    </tr>\n",
       "    <tr>\n",
       "      <th>3</th>\n",
       "      <td>NaN</td>\n",
       "      <td>NaN</td>\n",
       "      <td>NaN</td>\n",
       "      <td>NaT</td>\n",
       "      <td>NaT</td>\n",
       "      <td>NaT</td>\n",
       "      <td>NaT</td>\n",
       "      <td>NaN</td>\n",
       "      <td>2021-04-21</td>\n",
       "      <td>2021-10-20 12:38:25</td>\n",
       "      <td>javascript-i/introduction/variables</td>\n",
       "      <td>717</td>\n",
       "      <td>NaN</td>\n",
       "      <td>136.50.102.126</td>\n",
       "      <td>0</td>\n",
       "    </tr>\n",
       "    <tr>\n",
       "      <th>4</th>\n",
       "      <td>NaN</td>\n",
       "      <td>NaN</td>\n",
       "      <td>NaN</td>\n",
       "      <td>NaT</td>\n",
       "      <td>NaT</td>\n",
       "      <td>NaT</td>\n",
       "      <td>NaT</td>\n",
       "      <td>NaN</td>\n",
       "      <td>2021-04-21</td>\n",
       "      <td>2021-10-20 12:38:43</td>\n",
       "      <td>javascript-i/introduction/working-with-data-ty...</td>\n",
       "      <td>717</td>\n",
       "      <td>NaN</td>\n",
       "      <td>136.50.102.126</td>\n",
       "      <td>0</td>\n",
       "    </tr>\n",
       "  </tbody>\n",
       "</table>\n",
       "</div>"
      ],
      "text/plain": [
       "   id name slack start_date end_date created_at updated_at  program_id  \\\n",
       "0 NaN  NaN   NaN        NaT      NaT        NaT        NaT         NaN   \n",
       "1 NaN  NaN   NaN        NaT      NaT        NaT        NaT         NaN   \n",
       "2 NaN  NaN   NaN        NaT      NaT        NaT        NaT         NaN   \n",
       "3 NaN  NaN   NaN        NaT      NaT        NaT        NaT         NaN   \n",
       "4 NaN  NaN   NaN        NaT      NaT        NaT        NaT         NaN   \n",
       "\n",
       "        date                time  \\\n",
       "0 2021-04-21 2021-10-20 12:36:54   \n",
       "1 2021-04-21 2021-10-20 12:36:59   \n",
       "2 2021-04-21 2021-10-20 12:37:31   \n",
       "3 2021-04-21 2021-10-20 12:38:25   \n",
       "4 2021-04-21 2021-10-20 12:38:43   \n",
       "\n",
       "                                                path  user_id  cohort_id  \\\n",
       "0                                                toc      717        NaN   \n",
       "1          javascript-i/introduction/primitive-types      717        NaN   \n",
       "2                javascript-i/introduction/operators      717        NaN   \n",
       "3                javascript-i/introduction/variables      717        NaN   \n",
       "4  javascript-i/introduction/working-with-data-ty...      717        NaN   \n",
       "\n",
       "               ip program_type  \n",
       "0  136.50.102.126            0  \n",
       "1  136.50.102.126            0  \n",
       "2  136.50.102.126            0  \n",
       "3  136.50.102.126            0  \n",
       "4  136.50.102.126            0  "
      ]
     },
     "execution_count": 17,
     "metadata": {},
     "output_type": "execute_result"
    }
   ],
   "source": [
    "df = prepare.prepare_data()\n",
    "df.head()"
   ]
  },
  {
   "cell_type": "code",
   "execution_count": 22,
   "id": "56fa7406",
   "metadata": {},
   "outputs": [
    {
     "data": {
      "text/plain": [
       "id              0\n",
       "name            0\n",
       "slack           0\n",
       "start_date      0\n",
       "end_date        0\n",
       "created_at      0\n",
       "updated_at      0\n",
       "program_id      0\n",
       "date            0\n",
       "time            0\n",
       "path            0\n",
       "user_id         0\n",
       "cohort_id       0\n",
       "ip              0\n",
       "program_type    0\n",
       "dtype: int64"
      ]
     },
     "execution_count": 22,
     "metadata": {},
     "output_type": "execute_result"
    }
   ],
   "source": [
    "df.isna().sum()"
   ]
  },
  {
   "cell_type": "code",
   "execution_count": null,
   "id": "2c6146ef",
   "metadata": {},
   "outputs": [],
   "source": [
    "df.info()"
   ]
  },
  {
   "cell_type": "code",
   "execution_count": null,
   "id": "ac6045a5",
   "metadata": {},
   "outputs": [],
   "source": [
    "df.program_id.value_counts()"
   ]
  },
  {
   "cell_type": "code",
   "execution_count": null,
   "id": "184705e5",
   "metadata": {},
   "outputs": [],
   "source": [
    "df.program_type.value_counts()"
   ]
  },
  {
   "cell_type": "code",
   "execution_count": null,
   "id": "b3898bb4",
   "metadata": {},
   "outputs": [],
   "source": [
    "df.path.value_counts()"
   ]
  },
  {
   "cell_type": "markdown",
   "id": "d5f99395",
   "metadata": {},
   "source": [
    "- Created a new column with description of program type for easier readability\n",
    "- We have 52,893 nulls, but don't want to drop yet because could contain anomalies\n",
    "- Dropped 'deleted_at' column because no entries have a value, all are null"
   ]
  },
  {
   "cell_type": "markdown",
   "id": "ab9bfd79",
   "metadata": {},
   "source": [
    "## Explore"
   ]
  },
  {
   "cell_type": "markdown",
   "id": "436a745a",
   "metadata": {},
   "source": [
    "Let's dig into the data and see what we find!"
   ]
  },
  {
   "cell_type": "code",
   "execution_count": null,
   "id": "f47a6625",
   "metadata": {},
   "outputs": [],
   "source": [
    "sns.pairplot(df)"
   ]
  },
  {
   "cell_type": "code",
   "execution_count": null,
   "id": "14568aef",
   "metadata": {},
   "outputs": [],
   "source": [
    "df.time.value_counts().head(20).sort_index().plot.bar(title='Which hours was the most active?')"
   ]
  },
  {
   "cell_type": "code",
   "execution_count": null,
   "id": "3caa0949",
   "metadata": {},
   "outputs": [],
   "source": [
    "df.program_type.value_counts().sort_index().plot.barh(title=\"Which program types are the most popular?\")"
   ]
  },
  {
   "cell_type": "code",
   "execution_count": null,
   "id": "b3e25327",
   "metadata": {},
   "outputs": [],
   "source": [
    "fig, ax = plt.subplots(figsize=(12,10))\n",
    "df.name.value_counts().sort_index().plot.barh(title=\"Which cohorts are the most popular?\")"
   ]
  },
  {
   "cell_type": "markdown",
   "id": "ec88eeae",
   "metadata": {},
   "source": [
    "#### 1. Which lesson appears to attract the most traffic consistently across cohorts (per program)?"
   ]
  },
  {
   "cell_type": "code",
   "execution_count": null,
   "id": "b26d2ada",
   "metadata": {},
   "outputs": [],
   "source": [
    "df.path.value_counts().head(20).plot.barh(\n",
    "    title='Top 20 Most Commonly Requested Pages');"
   ]
  },
  {
   "cell_type": "markdown",
   "id": "2e13674f",
   "metadata": {},
   "source": [
    "#### 2. Is there a cohort that referred to a lesson significantly more than other cohorts seemed to gloss over?"
   ]
  },
  {
   "cell_type": "code",
   "execution_count": null,
   "id": "905b735c",
   "metadata": {},
   "outputs": [],
   "source": [
    "#fig, ax = plt.subplots(figsize=(8,6))\n",
    "#df.groupby('name').plot(kind='bar', ax=ax)"
   ]
  },
  {
   "cell_type": "markdown",
   "id": "4c638817",
   "metadata": {},
   "source": [
    "#### 3. Are there students who, when active, hardly access the curriculum? If so, what information do you have about these students?"
   ]
  },
  {
   "cell_type": "markdown",
   "id": "e6eafde9",
   "metadata": {},
   "source": [
    "- I will need to check students' start and end date and see how often they referenced the curriculum"
   ]
  },
  {
   "cell_type": "code",
   "execution_count": null,
   "id": "66e6354e",
   "metadata": {},
   "outputs": [],
   "source": []
  },
  {
   "cell_type": "markdown",
   "id": "3b9c240b",
   "metadata": {},
   "source": [
    "#### 4. Is there any suspicious activity, such as users/machines/etc accessing the curriculum who shouldn’t be? Does it appear that any web-scraping is happening? Are there any suspicious IP addresses?"
   ]
  },
  {
   "cell_type": "code",
   "execution_count": null,
   "id": "cf0f8130",
   "metadata": {},
   "outputs": [],
   "source": []
  },
  {
   "cell_type": "markdown",
   "id": "38649a84",
   "metadata": {},
   "source": [
    "#### 5. At some point in 2019, the ability for students and alumni to access both curriculums (web dev to ds, ds to web dev) should have been shut off. Do you see any evidence of that happening? Did it happen before?"
   ]
  },
  {
   "cell_type": "code",
   "execution_count": null,
   "id": "f315e673",
   "metadata": {},
   "outputs": [],
   "source": []
  },
  {
   "cell_type": "markdown",
   "id": "3d338cf3",
   "metadata": {},
   "source": [
    "#### 6. What topics are grads continuing to reference after graduation and into their jobs (for each program)?\n"
   ]
  },
  {
   "cell_type": "markdown",
   "id": "e5673a7e",
   "metadata": {},
   "source": [
    "- I will need to check topics referenced after end date "
   ]
  },
  {
   "cell_type": "code",
   "execution_count": null,
   "id": "30a24cc6",
   "metadata": {},
   "outputs": [],
   "source": []
  },
  {
   "cell_type": "markdown",
   "id": "8480ee46",
   "metadata": {},
   "source": [
    "#### 7. Which lessons are least accessed?\n"
   ]
  },
  {
   "cell_type": "code",
   "execution_count": null,
   "id": "fefb27ae",
   "metadata": {},
   "outputs": [],
   "source": [
    "fig, ax = plt.subplots(figsize=(12,10))\n",
    "df.path.value_counts().tail(30).plot.barh(\n",
    "    title='30 Least Commonly Requested Pages',\n",
    ")"
   ]
  },
  {
   "cell_type": "markdown",
   "id": "a843a74d",
   "metadata": {},
   "source": [
    "#### 8. Anything else I should be aware of?"
   ]
  },
  {
   "cell_type": "code",
   "execution_count": null,
   "id": "6ea0722e",
   "metadata": {},
   "outputs": [],
   "source": [
    "# get the counts of ips in the dataset\n",
    "\n",
    "ip_df = pd.DataFrame(df.ip.value_counts(dropna=False)).reset_index().\\\n",
    "                rename(columns={'index': 'ip', 'ip': 'ip_count'})"
   ]
  },
  {
   "cell_type": "code",
   "execution_count": null,
   "id": "d28ef399",
   "metadata": {},
   "outputs": [],
   "source": [
    "ip_df.head(20)"
   ]
  },
  {
   "cell_type": "code",
   "execution_count": null,
   "id": "bba8f65f",
   "metadata": {},
   "outputs": [],
   "source": [
    "ip_df.tail(20)"
   ]
  },
  {
   "cell_type": "code",
   "execution_count": null,
   "id": "0f395022",
   "metadata": {},
   "outputs": [],
   "source": [
    "ip_df[ip_df['ip_count'] == 1].nunique()"
   ]
  },
  {
   "cell_type": "code",
   "execution_count": null,
   "id": "4333ba24",
   "metadata": {},
   "outputs": [],
   "source": []
  }
 ],
 "metadata": {
  "kernelspec": {
   "display_name": "Python 3",
   "language": "python",
   "name": "python3"
  },
  "language_info": {
   "codemirror_mode": {
    "name": "ipython",
    "version": 3
   },
   "file_extension": ".py",
   "mimetype": "text/x-python",
   "name": "python",
   "nbconvert_exporter": "python",
   "pygments_lexer": "ipython3",
   "version": "3.8.8"
  }
 },
 "nbformat": 4,
 "nbformat_minor": 5
}
